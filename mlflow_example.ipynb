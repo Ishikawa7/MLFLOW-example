{
 "cells": [
  {
   "cell_type": "code",
   "execution_count": 69,
   "id": "70379d74",
   "metadata": {},
   "outputs": [],
   "source": [
    "import pandas as pd\n",
    "from sklearn.compose import ColumnTransformer\n",
    "from sklearn.preprocessing import OneHotEncoder, StandardScaler, LabelEncoder, QuantileTransformer\n",
    "from sklearn.impute import SimpleImputer\n",
    "from sklearn.pipeline import Pipeline\n",
    "from sklearn.model_selection import train_test_split\n",
    "from xgboost import XGBClassifier\n",
    "import json\n",
    "import os\n",
    "import joblib\n",
    "from itertools import product\n",
    "import warnings\n"
   ]
  },
  {
   "attachments": {},
   "cell_type": "markdown",
   "id": "ac03bdb1",
   "metadata": {},
   "source": [
    "# Exercise mlflow\n",
    "\n",
    "Toy problem → Binary classification (LendingClub Dataset), the model's task is to determine whether an individual will default on a loan based on data collected during the initiation of the loan."
   ]
  },
  {
   "cell_type": "code",
   "execution_count": 70,
   "id": "c98d005e",
   "metadata": {},
   "outputs": [],
   "source": [
    "data = pd.read_csv('./train_dataset.csv')\n",
    "data_test = pd.read_csv('./test_dataset.csv')"
   ]
  },
  {
   "cell_type": "code",
   "execution_count": 71,
   "id": "9f7f9c5d",
   "metadata": {},
   "outputs": [
    {
     "data": {
      "text/html": [
       "<div>\n",
       "<style scoped>\n",
       "    .dataframe tbody tr th:only-of-type {\n",
       "        vertical-align: middle;\n",
       "    }\n",
       "\n",
       "    .dataframe tbody tr th {\n",
       "        vertical-align: top;\n",
       "    }\n",
       "\n",
       "    .dataframe thead th {\n",
       "        text-align: right;\n",
       "    }\n",
       "</style>\n",
       "<table border=\"1\" class=\"dataframe\">\n",
       "  <thead>\n",
       "    <tr style=\"text-align: right;\">\n",
       "      <th></th>\n",
       "      <th>loan_amount</th>\n",
       "      <th>payments_term</th>\n",
       "      <th>monthly_payment</th>\n",
       "      <th>grade</th>\n",
       "      <th>working_years</th>\n",
       "      <th>home</th>\n",
       "      <th>annual_income</th>\n",
       "      <th>verification</th>\n",
       "      <th>purpose</th>\n",
       "      <th>debt_to_income</th>\n",
       "      <th>delinquency</th>\n",
       "      <th>inquiries</th>\n",
       "      <th>open_credit_lines</th>\n",
       "      <th>derogatory_records</th>\n",
       "      <th>revolving_balance</th>\n",
       "      <th>revolving_rate</th>\n",
       "      <th>total_accounts</th>\n",
       "      <th>bankruptcies</th>\n",
       "      <th>fico_average</th>\n",
       "      <th>loan_risk</th>\n",
       "    </tr>\n",
       "  </thead>\n",
       "  <tbody>\n",
       "    <tr>\n",
       "      <th>0</th>\n",
       "      <td>3000</td>\n",
       "      <td>36 months</td>\n",
       "      <td>90.48</td>\n",
       "      <td>1</td>\n",
       "      <td>10</td>\n",
       "      <td>Rent</td>\n",
       "      <td>48000.0</td>\n",
       "      <td>Source Verified</td>\n",
       "      <td>debt_consolidation</td>\n",
       "      <td>14.15</td>\n",
       "      <td>0</td>\n",
       "      <td>0</td>\n",
       "      <td>5</td>\n",
       "      <td>0</td>\n",
       "      <td>1896</td>\n",
       "      <td>39.5</td>\n",
       "      <td>12</td>\n",
       "      <td>0</td>\n",
       "      <td>777</td>\n",
       "      <td>Paid</td>\n",
       "    </tr>\n",
       "    <tr>\n",
       "      <th>1</th>\n",
       "      <td>12650</td>\n",
       "      <td>60 months</td>\n",
       "      <td>316.23</td>\n",
       "      <td>4</td>\n",
       "      <td>2</td>\n",
       "      <td>Rent</td>\n",
       "      <td>61500.0</td>\n",
       "      <td>Source Verified</td>\n",
       "      <td>credit_card</td>\n",
       "      <td>12.86</td>\n",
       "      <td>0</td>\n",
       "      <td>1</td>\n",
       "      <td>9</td>\n",
       "      <td>0</td>\n",
       "      <td>11200</td>\n",
       "      <td>83.0</td>\n",
       "      <td>27</td>\n",
       "      <td>0</td>\n",
       "      <td>697</td>\n",
       "      <td>Paid</td>\n",
       "    </tr>\n",
       "    <tr>\n",
       "      <th>2</th>\n",
       "      <td>5000</td>\n",
       "      <td>60 months</td>\n",
       "      <td>106.24</td>\n",
       "      <td>2</td>\n",
       "      <td>10</td>\n",
       "      <td>Mortgage</td>\n",
       "      <td>90000.0</td>\n",
       "      <td>Not Verified</td>\n",
       "      <td>car</td>\n",
       "      <td>11.85</td>\n",
       "      <td>0</td>\n",
       "      <td>0</td>\n",
       "      <td>16</td>\n",
       "      <td>0</td>\n",
       "      <td>31007</td>\n",
       "      <td>80.7</td>\n",
       "      <td>35</td>\n",
       "      <td>0</td>\n",
       "      <td>737</td>\n",
       "      <td>Paid</td>\n",
       "    </tr>\n",
       "    <tr>\n",
       "      <th>3</th>\n",
       "      <td>16000</td>\n",
       "      <td>36 months</td>\n",
       "      <td>540.88</td>\n",
       "      <td>3</td>\n",
       "      <td>3</td>\n",
       "      <td>Mortgage</td>\n",
       "      <td>35004.0</td>\n",
       "      <td>Verified</td>\n",
       "      <td>debt_consolidation</td>\n",
       "      <td>20.81</td>\n",
       "      <td>0</td>\n",
       "      <td>0</td>\n",
       "      <td>5</td>\n",
       "      <td>0</td>\n",
       "      <td>14383</td>\n",
       "      <td>92.2</td>\n",
       "      <td>23</td>\n",
       "      <td>0</td>\n",
       "      <td>722</td>\n",
       "      <td>Paid</td>\n",
       "    </tr>\n",
       "    <tr>\n",
       "      <th>4</th>\n",
       "      <td>17600</td>\n",
       "      <td>60 months</td>\n",
       "      <td>409.43</td>\n",
       "      <td>3</td>\n",
       "      <td>10</td>\n",
       "      <td>Mortgage</td>\n",
       "      <td>95000.0</td>\n",
       "      <td>Verified</td>\n",
       "      <td>debt_consolidation</td>\n",
       "      <td>8.07</td>\n",
       "      <td>0</td>\n",
       "      <td>3</td>\n",
       "      <td>11</td>\n",
       "      <td>0</td>\n",
       "      <td>3858</td>\n",
       "      <td>14.8</td>\n",
       "      <td>17</td>\n",
       "      <td>0</td>\n",
       "      <td>732</td>\n",
       "      <td>Charged off</td>\n",
       "    </tr>\n",
       "  </tbody>\n",
       "</table>\n",
       "</div>"
      ],
      "text/plain": [
       "   loan_amount payments_term  monthly_payment  grade  working_years      home  \\\n",
       "0         3000     36 months            90.48      1             10      Rent   \n",
       "1        12650     60 months           316.23      4              2      Rent   \n",
       "2         5000     60 months           106.24      2             10  Mortgage   \n",
       "3        16000     36 months           540.88      3              3  Mortgage   \n",
       "4        17600     60 months           409.43      3             10  Mortgage   \n",
       "\n",
       "   annual_income     verification             purpose  debt_to_income  \\\n",
       "0        48000.0  Source Verified  debt_consolidation           14.15   \n",
       "1        61500.0  Source Verified         credit_card           12.86   \n",
       "2        90000.0     Not Verified                 car           11.85   \n",
       "3        35004.0         Verified  debt_consolidation           20.81   \n",
       "4        95000.0         Verified  debt_consolidation            8.07   \n",
       "\n",
       "   delinquency  inquiries  open_credit_lines  derogatory_records  \\\n",
       "0            0          0                  5                   0   \n",
       "1            0          1                  9                   0   \n",
       "2            0          0                 16                   0   \n",
       "3            0          0                  5                   0   \n",
       "4            0          3                 11                   0   \n",
       "\n",
       "   revolving_balance  revolving_rate  total_accounts  bankruptcies  \\\n",
       "0               1896            39.5              12             0   \n",
       "1              11200            83.0              27             0   \n",
       "2              31007            80.7              35             0   \n",
       "3              14383            92.2              23             0   \n",
       "4               3858            14.8              17             0   \n",
       "\n",
       "   fico_average    loan_risk  \n",
       "0           777         Paid  \n",
       "1           697         Paid  \n",
       "2           737         Paid  \n",
       "3           722         Paid  \n",
       "4           732  Charged off  "
      ]
     },
     "execution_count": 71,
     "metadata": {},
     "output_type": "execute_result"
    }
   ],
   "source": [
    "data.head()"
   ]
  },
  {
   "cell_type": "code",
   "execution_count": 72,
   "id": "f1949795",
   "metadata": {},
   "outputs": [
    {
     "data": {
      "text/plain": [
       "Paid           25224\n",
       "Charged off     3978\n",
       "Name: loan_risk, dtype: int64"
      ]
     },
     "execution_count": 72,
     "metadata": {},
     "output_type": "execute_result"
    }
   ],
   "source": [
    "data['loan_risk'].value_counts()"
   ]
  },
  {
   "cell_type": "code",
   "execution_count": 73,
   "id": "795374cb",
   "metadata": {},
   "outputs": [],
   "source": [
    "# transform column 'loan_risk' to numerical values 0 and 1\n",
    "data['loan_risk'] = data['loan_risk'].map({'Charged off': 0, 'Paid': 1})\n",
    "data_test['loan_risk'] = data_test['loan_risk'].map({'Charged off': 0, 'Paid': 1})"
   ]
  },
  {
   "cell_type": "code",
   "execution_count": 74,
   "id": "b6b406be",
   "metadata": {},
   "outputs": [
    {
     "data": {
      "text/html": [
       "<div>\n",
       "<style scoped>\n",
       "    .dataframe tbody tr th:only-of-type {\n",
       "        vertical-align: middle;\n",
       "    }\n",
       "\n",
       "    .dataframe tbody tr th {\n",
       "        vertical-align: top;\n",
       "    }\n",
       "\n",
       "    .dataframe thead th {\n",
       "        text-align: right;\n",
       "    }\n",
       "</style>\n",
       "<table border=\"1\" class=\"dataframe\">\n",
       "  <thead>\n",
       "    <tr style=\"text-align: right;\">\n",
       "      <th></th>\n",
       "      <th>loan_amount</th>\n",
       "      <th>payments_term</th>\n",
       "      <th>monthly_payment</th>\n",
       "      <th>grade</th>\n",
       "      <th>working_years</th>\n",
       "      <th>home</th>\n",
       "      <th>annual_income</th>\n",
       "      <th>verification</th>\n",
       "      <th>purpose</th>\n",
       "      <th>debt_to_income</th>\n",
       "      <th>delinquency</th>\n",
       "      <th>inquiries</th>\n",
       "      <th>open_credit_lines</th>\n",
       "      <th>derogatory_records</th>\n",
       "      <th>revolving_balance</th>\n",
       "      <th>revolving_rate</th>\n",
       "      <th>total_accounts</th>\n",
       "      <th>bankruptcies</th>\n",
       "      <th>fico_average</th>\n",
       "      <th>loan_risk</th>\n",
       "    </tr>\n",
       "  </thead>\n",
       "  <tbody>\n",
       "    <tr>\n",
       "      <th>0</th>\n",
       "      <td>3000</td>\n",
       "      <td>36 months</td>\n",
       "      <td>90.48</td>\n",
       "      <td>1</td>\n",
       "      <td>10</td>\n",
       "      <td>Rent</td>\n",
       "      <td>48000.0</td>\n",
       "      <td>Source Verified</td>\n",
       "      <td>debt_consolidation</td>\n",
       "      <td>14.15</td>\n",
       "      <td>0</td>\n",
       "      <td>0</td>\n",
       "      <td>5</td>\n",
       "      <td>0</td>\n",
       "      <td>1896</td>\n",
       "      <td>39.5</td>\n",
       "      <td>12</td>\n",
       "      <td>0</td>\n",
       "      <td>777</td>\n",
       "      <td>1</td>\n",
       "    </tr>\n",
       "    <tr>\n",
       "      <th>1</th>\n",
       "      <td>12650</td>\n",
       "      <td>60 months</td>\n",
       "      <td>316.23</td>\n",
       "      <td>4</td>\n",
       "      <td>2</td>\n",
       "      <td>Rent</td>\n",
       "      <td>61500.0</td>\n",
       "      <td>Source Verified</td>\n",
       "      <td>credit_card</td>\n",
       "      <td>12.86</td>\n",
       "      <td>0</td>\n",
       "      <td>1</td>\n",
       "      <td>9</td>\n",
       "      <td>0</td>\n",
       "      <td>11200</td>\n",
       "      <td>83.0</td>\n",
       "      <td>27</td>\n",
       "      <td>0</td>\n",
       "      <td>697</td>\n",
       "      <td>1</td>\n",
       "    </tr>\n",
       "    <tr>\n",
       "      <th>2</th>\n",
       "      <td>5000</td>\n",
       "      <td>60 months</td>\n",
       "      <td>106.24</td>\n",
       "      <td>2</td>\n",
       "      <td>10</td>\n",
       "      <td>Mortgage</td>\n",
       "      <td>90000.0</td>\n",
       "      <td>Not Verified</td>\n",
       "      <td>car</td>\n",
       "      <td>11.85</td>\n",
       "      <td>0</td>\n",
       "      <td>0</td>\n",
       "      <td>16</td>\n",
       "      <td>0</td>\n",
       "      <td>31007</td>\n",
       "      <td>80.7</td>\n",
       "      <td>35</td>\n",
       "      <td>0</td>\n",
       "      <td>737</td>\n",
       "      <td>1</td>\n",
       "    </tr>\n",
       "    <tr>\n",
       "      <th>3</th>\n",
       "      <td>16000</td>\n",
       "      <td>36 months</td>\n",
       "      <td>540.88</td>\n",
       "      <td>3</td>\n",
       "      <td>3</td>\n",
       "      <td>Mortgage</td>\n",
       "      <td>35004.0</td>\n",
       "      <td>Verified</td>\n",
       "      <td>debt_consolidation</td>\n",
       "      <td>20.81</td>\n",
       "      <td>0</td>\n",
       "      <td>0</td>\n",
       "      <td>5</td>\n",
       "      <td>0</td>\n",
       "      <td>14383</td>\n",
       "      <td>92.2</td>\n",
       "      <td>23</td>\n",
       "      <td>0</td>\n",
       "      <td>722</td>\n",
       "      <td>1</td>\n",
       "    </tr>\n",
       "    <tr>\n",
       "      <th>4</th>\n",
       "      <td>17600</td>\n",
       "      <td>60 months</td>\n",
       "      <td>409.43</td>\n",
       "      <td>3</td>\n",
       "      <td>10</td>\n",
       "      <td>Mortgage</td>\n",
       "      <td>95000.0</td>\n",
       "      <td>Verified</td>\n",
       "      <td>debt_consolidation</td>\n",
       "      <td>8.07</td>\n",
       "      <td>0</td>\n",
       "      <td>3</td>\n",
       "      <td>11</td>\n",
       "      <td>0</td>\n",
       "      <td>3858</td>\n",
       "      <td>14.8</td>\n",
       "      <td>17</td>\n",
       "      <td>0</td>\n",
       "      <td>732</td>\n",
       "      <td>0</td>\n",
       "    </tr>\n",
       "  </tbody>\n",
       "</table>\n",
       "</div>"
      ],
      "text/plain": [
       "   loan_amount payments_term  monthly_payment  grade  working_years      home  \\\n",
       "0         3000     36 months            90.48      1             10      Rent   \n",
       "1        12650     60 months           316.23      4              2      Rent   \n",
       "2         5000     60 months           106.24      2             10  Mortgage   \n",
       "3        16000     36 months           540.88      3              3  Mortgage   \n",
       "4        17600     60 months           409.43      3             10  Mortgage   \n",
       "\n",
       "   annual_income     verification             purpose  debt_to_income  \\\n",
       "0        48000.0  Source Verified  debt_consolidation           14.15   \n",
       "1        61500.0  Source Verified         credit_card           12.86   \n",
       "2        90000.0     Not Verified                 car           11.85   \n",
       "3        35004.0         Verified  debt_consolidation           20.81   \n",
       "4        95000.0         Verified  debt_consolidation            8.07   \n",
       "\n",
       "   delinquency  inquiries  open_credit_lines  derogatory_records  \\\n",
       "0            0          0                  5                   0   \n",
       "1            0          1                  9                   0   \n",
       "2            0          0                 16                   0   \n",
       "3            0          0                  5                   0   \n",
       "4            0          3                 11                   0   \n",
       "\n",
       "   revolving_balance  revolving_rate  total_accounts  bankruptcies  \\\n",
       "0               1896            39.5              12             0   \n",
       "1              11200            83.0              27             0   \n",
       "2              31007            80.7              35             0   \n",
       "3              14383            92.2              23             0   \n",
       "4               3858            14.8              17             0   \n",
       "\n",
       "   fico_average  loan_risk  \n",
       "0           777          1  \n",
       "1           697          1  \n",
       "2           737          1  \n",
       "3           722          1  \n",
       "4           732          0  "
      ]
     },
     "execution_count": 74,
     "metadata": {},
     "output_type": "execute_result"
    }
   ],
   "source": [
    "data.head()"
   ]
  },
  {
   "cell_type": "code",
   "execution_count": 75,
   "id": "ffa086e9",
   "metadata": {},
   "outputs": [],
   "source": [
    "data_train, data_val = train_test_split(data, test_size=0.2)"
   ]
  },
  {
   "attachments": {},
   "cell_type": "markdown",
   "id": "347dd9dc",
   "metadata": {},
   "source": [
    "# Definition of a classification pipeline\n",
    "\n",
    "Within the pipeline, data is prepared, processed and fed to the model. Function below trains the pipeline on data supplied as an argument using parameters specified in the parameters dictionary"
   ]
  },
  {
   "cell_type": "code",
   "execution_count": 76,
   "id": "200ae12f",
   "metadata": {},
   "outputs": [],
   "source": [
    "def train_xgboost_pipeline(data_x, data_y, parameters=None):\n",
    "    # This function trains an xgboost classifier using the hyperparameters defined in parameters\n",
    "\n",
    "    if parameters is None:\n",
    "        parameters = dict(n_estimators=100, \n",
    "                          max_depth=4, \n",
    "                          scale_pos_weight=1,\n",
    "                          learning_rate=0.1)\n",
    "    \n",
    "    # Preprocessing numerical and categorical features\n",
    "\n",
    "    # Numerical features are imputed with the median\n",
    "    numerical_features = data_x.select_dtypes(include=\"number\").columns\n",
    "    # Categorical features are imputed with the most frequent value and one-hot encoded\n",
    "    categorical_features = data_x.select_dtypes(include=\"object\").columns\n",
    "\n",
    "    \n",
    "    numerical_transformer = Pipeline(steps=[('imputer', SimpleImputer(strategy='median'))])\n",
    "\n",
    "    categorical_transformer = Pipeline(steps=[('onehot', OneHotEncoder(handle_unknown='ignore'))])\n",
    "\n",
    "    preprocessor = ColumnTransformer(transformers=[('ord', numerical_transformer, numerical_features),\n",
    "                                                ('cat', categorical_transformer, categorical_features)])\n",
    "\n",
    "    # Creation of a preprocessor + XGBoost pipeline\n",
    "    \n",
    "    xgb_clf = XGBClassifier(n_estimators=parameters['n_estimators'],\n",
    "                           max_depth=parameters['max_depth'],\n",
    "                           scale_pos_weight=parameters['scale_pos_weight'],\n",
    "                           learning_rate=parameters['learning_rate'],\n",
    "                           random_state=42,\n",
    "                           n_jobs=4)\n",
    "\n",
    "    xgb_pipeline = Pipeline(steps=[(\"preprocessing\", preprocessor), \n",
    "                                   (\"xgb_model\", xgb_clf)])\n",
    "\n",
    "    # Pipeline fit\n",
    "\n",
    "    xgb_pipeline.fit(data_x, data_y)\n",
    "\n",
    "    return xgb_pipeline"
   ]
  },
  {
   "cell_type": "code",
   "execution_count": 77,
   "id": "94d30f32",
   "metadata": {},
   "outputs": [],
   "source": [
    "clf = train_xgboost_pipeline(data_train.drop(['loan_risk'],axis=1),data_train['loan_risk'])"
   ]
  },
  {
   "cell_type": "code",
   "execution_count": 78,
   "id": "1554bb11",
   "metadata": {},
   "outputs": [
    {
     "data": {
      "text/html": [
       "<style>#sk-container-id-6 {color: black;background-color: white;}#sk-container-id-6 pre{padding: 0;}#sk-container-id-6 div.sk-toggleable {background-color: white;}#sk-container-id-6 label.sk-toggleable__label {cursor: pointer;display: block;width: 100%;margin-bottom: 0;padding: 0.3em;box-sizing: border-box;text-align: center;}#sk-container-id-6 label.sk-toggleable__label-arrow:before {content: \"▸\";float: left;margin-right: 0.25em;color: #696969;}#sk-container-id-6 label.sk-toggleable__label-arrow:hover:before {color: black;}#sk-container-id-6 div.sk-estimator:hover label.sk-toggleable__label-arrow:before {color: black;}#sk-container-id-6 div.sk-toggleable__content {max-height: 0;max-width: 0;overflow: hidden;text-align: left;background-color: #f0f8ff;}#sk-container-id-6 div.sk-toggleable__content pre {margin: 0.2em;color: black;border-radius: 0.25em;background-color: #f0f8ff;}#sk-container-id-6 input.sk-toggleable__control:checked~div.sk-toggleable__content {max-height: 200px;max-width: 100%;overflow: auto;}#sk-container-id-6 input.sk-toggleable__control:checked~label.sk-toggleable__label-arrow:before {content: \"▾\";}#sk-container-id-6 div.sk-estimator input.sk-toggleable__control:checked~label.sk-toggleable__label {background-color: #d4ebff;}#sk-container-id-6 div.sk-label input.sk-toggleable__control:checked~label.sk-toggleable__label {background-color: #d4ebff;}#sk-container-id-6 input.sk-hidden--visually {border: 0;clip: rect(1px 1px 1px 1px);clip: rect(1px, 1px, 1px, 1px);height: 1px;margin: -1px;overflow: hidden;padding: 0;position: absolute;width: 1px;}#sk-container-id-6 div.sk-estimator {font-family: monospace;background-color: #f0f8ff;border: 1px dotted black;border-radius: 0.25em;box-sizing: border-box;margin-bottom: 0.5em;}#sk-container-id-6 div.sk-estimator:hover {background-color: #d4ebff;}#sk-container-id-6 div.sk-parallel-item::after {content: \"\";width: 100%;border-bottom: 1px solid gray;flex-grow: 1;}#sk-container-id-6 div.sk-label:hover label.sk-toggleable__label {background-color: #d4ebff;}#sk-container-id-6 div.sk-serial::before {content: \"\";position: absolute;border-left: 1px solid gray;box-sizing: border-box;top: 0;bottom: 0;left: 50%;z-index: 0;}#sk-container-id-6 div.sk-serial {display: flex;flex-direction: column;align-items: center;background-color: white;padding-right: 0.2em;padding-left: 0.2em;position: relative;}#sk-container-id-6 div.sk-item {position: relative;z-index: 1;}#sk-container-id-6 div.sk-parallel {display: flex;align-items: stretch;justify-content: center;background-color: white;position: relative;}#sk-container-id-6 div.sk-item::before, #sk-container-id-6 div.sk-parallel-item::before {content: \"\";position: absolute;border-left: 1px solid gray;box-sizing: border-box;top: 0;bottom: 0;left: 50%;z-index: -1;}#sk-container-id-6 div.sk-parallel-item {display: flex;flex-direction: column;z-index: 1;position: relative;background-color: white;}#sk-container-id-6 div.sk-parallel-item:first-child::after {align-self: flex-end;width: 50%;}#sk-container-id-6 div.sk-parallel-item:last-child::after {align-self: flex-start;width: 50%;}#sk-container-id-6 div.sk-parallel-item:only-child::after {width: 0;}#sk-container-id-6 div.sk-dashed-wrapped {border: 1px dashed gray;margin: 0 0.4em 0.5em 0.4em;box-sizing: border-box;padding-bottom: 0.4em;background-color: white;}#sk-container-id-6 div.sk-label label {font-family: monospace;font-weight: bold;display: inline-block;line-height: 1.2em;}#sk-container-id-6 div.sk-label-container {text-align: center;}#sk-container-id-6 div.sk-container {/* jupyter's `normalize.less` sets `[hidden] { display: none; }` but bootstrap.min.css set `[hidden] { display: none !important; }` so we also need the `!important` here to be able to override the default hidden behavior on the sphinx rendered scikit-learn.org. See: https://github.com/scikit-learn/scikit-learn/issues/21755 */display: inline-block !important;position: relative;}#sk-container-id-6 div.sk-text-repr-fallback {display: none;}</style><div id=\"sk-container-id-6\" class=\"sk-top-container\"><div class=\"sk-text-repr-fallback\"><pre>Pipeline(steps=[(&#x27;preprocessing&#x27;,\n",
       "                 ColumnTransformer(transformers=[(&#x27;ord&#x27;,\n",
       "                                                  Pipeline(steps=[(&#x27;imputer&#x27;,\n",
       "                                                                   SimpleImputer(strategy=&#x27;median&#x27;))]),\n",
       "                                                  Index([&#x27;loan_amount&#x27;, &#x27;monthly_payment&#x27;, &#x27;grade&#x27;, &#x27;working_years&#x27;,\n",
       "       &#x27;annual_income&#x27;, &#x27;debt_to_income&#x27;, &#x27;delinquency&#x27;, &#x27;inquiries&#x27;,\n",
       "       &#x27;open_credit_lines&#x27;, &#x27;derogatory_records&#x27;, &#x27;revolving_balance&#x27;,\n",
       "       &#x27;revolving_rate&#x27;, &#x27;total_accounts...\n",
       "                               feature_types=None, gamma=None, gpu_id=None,\n",
       "                               grow_policy=None, importance_type=None,\n",
       "                               interaction_constraints=None, learning_rate=0.1,\n",
       "                               max_bin=None, max_cat_threshold=None,\n",
       "                               max_cat_to_onehot=None, max_delta_step=None,\n",
       "                               max_depth=4, max_leaves=None,\n",
       "                               min_child_weight=None, missing=nan,\n",
       "                               monotone_constraints=None, n_estimators=100,\n",
       "                               n_jobs=4, num_parallel_tree=None, predictor=None,\n",
       "                               random_state=42, ...))])</pre><b>In a Jupyter environment, please rerun this cell to show the HTML representation or trust the notebook. <br />On GitHub, the HTML representation is unable to render, please try loading this page with nbviewer.org.</b></div><div class=\"sk-container\" hidden><div class=\"sk-item sk-dashed-wrapped\"><div class=\"sk-label-container\"><div class=\"sk-label sk-toggleable\"><input class=\"sk-toggleable__control sk-hidden--visually\" id=\"sk-estimator-id-36\" type=\"checkbox\" ><label for=\"sk-estimator-id-36\" class=\"sk-toggleable__label sk-toggleable__label-arrow\">Pipeline</label><div class=\"sk-toggleable__content\"><pre>Pipeline(steps=[(&#x27;preprocessing&#x27;,\n",
       "                 ColumnTransformer(transformers=[(&#x27;ord&#x27;,\n",
       "                                                  Pipeline(steps=[(&#x27;imputer&#x27;,\n",
       "                                                                   SimpleImputer(strategy=&#x27;median&#x27;))]),\n",
       "                                                  Index([&#x27;loan_amount&#x27;, &#x27;monthly_payment&#x27;, &#x27;grade&#x27;, &#x27;working_years&#x27;,\n",
       "       &#x27;annual_income&#x27;, &#x27;debt_to_income&#x27;, &#x27;delinquency&#x27;, &#x27;inquiries&#x27;,\n",
       "       &#x27;open_credit_lines&#x27;, &#x27;derogatory_records&#x27;, &#x27;revolving_balance&#x27;,\n",
       "       &#x27;revolving_rate&#x27;, &#x27;total_accounts...\n",
       "                               feature_types=None, gamma=None, gpu_id=None,\n",
       "                               grow_policy=None, importance_type=None,\n",
       "                               interaction_constraints=None, learning_rate=0.1,\n",
       "                               max_bin=None, max_cat_threshold=None,\n",
       "                               max_cat_to_onehot=None, max_delta_step=None,\n",
       "                               max_depth=4, max_leaves=None,\n",
       "                               min_child_weight=None, missing=nan,\n",
       "                               monotone_constraints=None, n_estimators=100,\n",
       "                               n_jobs=4, num_parallel_tree=None, predictor=None,\n",
       "                               random_state=42, ...))])</pre></div></div></div><div class=\"sk-serial\"><div class=\"sk-item sk-dashed-wrapped\"><div class=\"sk-label-container\"><div class=\"sk-label sk-toggleable\"><input class=\"sk-toggleable__control sk-hidden--visually\" id=\"sk-estimator-id-37\" type=\"checkbox\" ><label for=\"sk-estimator-id-37\" class=\"sk-toggleable__label sk-toggleable__label-arrow\">preprocessing: ColumnTransformer</label><div class=\"sk-toggleable__content\"><pre>ColumnTransformer(transformers=[(&#x27;ord&#x27;,\n",
       "                                 Pipeline(steps=[(&#x27;imputer&#x27;,\n",
       "                                                  SimpleImputer(strategy=&#x27;median&#x27;))]),\n",
       "                                 Index([&#x27;loan_amount&#x27;, &#x27;monthly_payment&#x27;, &#x27;grade&#x27;, &#x27;working_years&#x27;,\n",
       "       &#x27;annual_income&#x27;, &#x27;debt_to_income&#x27;, &#x27;delinquency&#x27;, &#x27;inquiries&#x27;,\n",
       "       &#x27;open_credit_lines&#x27;, &#x27;derogatory_records&#x27;, &#x27;revolving_balance&#x27;,\n",
       "       &#x27;revolving_rate&#x27;, &#x27;total_accounts&#x27;, &#x27;bankruptcies&#x27;, &#x27;fico_average&#x27;],\n",
       "      dtype=&#x27;object&#x27;)),\n",
       "                                (&#x27;cat&#x27;,\n",
       "                                 Pipeline(steps=[(&#x27;onehot&#x27;,\n",
       "                                                  OneHotEncoder(handle_unknown=&#x27;ignore&#x27;))]),\n",
       "                                 Index([&#x27;payments_term&#x27;, &#x27;home&#x27;, &#x27;verification&#x27;, &#x27;purpose&#x27;], dtype=&#x27;object&#x27;))])</pre></div></div></div><div class=\"sk-parallel\"><div class=\"sk-parallel-item\"><div class=\"sk-item\"><div class=\"sk-label-container\"><div class=\"sk-label sk-toggleable\"><input class=\"sk-toggleable__control sk-hidden--visually\" id=\"sk-estimator-id-38\" type=\"checkbox\" ><label for=\"sk-estimator-id-38\" class=\"sk-toggleable__label sk-toggleable__label-arrow\">ord</label><div class=\"sk-toggleable__content\"><pre>Index([&#x27;loan_amount&#x27;, &#x27;monthly_payment&#x27;, &#x27;grade&#x27;, &#x27;working_years&#x27;,\n",
       "       &#x27;annual_income&#x27;, &#x27;debt_to_income&#x27;, &#x27;delinquency&#x27;, &#x27;inquiries&#x27;,\n",
       "       &#x27;open_credit_lines&#x27;, &#x27;derogatory_records&#x27;, &#x27;revolving_balance&#x27;,\n",
       "       &#x27;revolving_rate&#x27;, &#x27;total_accounts&#x27;, &#x27;bankruptcies&#x27;, &#x27;fico_average&#x27;],\n",
       "      dtype=&#x27;object&#x27;)</pre></div></div></div><div class=\"sk-serial\"><div class=\"sk-item\"><div class=\"sk-serial\"><div class=\"sk-item\"><div class=\"sk-estimator sk-toggleable\"><input class=\"sk-toggleable__control sk-hidden--visually\" id=\"sk-estimator-id-39\" type=\"checkbox\" ><label for=\"sk-estimator-id-39\" class=\"sk-toggleable__label sk-toggleable__label-arrow\">SimpleImputer</label><div class=\"sk-toggleable__content\"><pre>SimpleImputer(strategy=&#x27;median&#x27;)</pre></div></div></div></div></div></div></div></div><div class=\"sk-parallel-item\"><div class=\"sk-item\"><div class=\"sk-label-container\"><div class=\"sk-label sk-toggleable\"><input class=\"sk-toggleable__control sk-hidden--visually\" id=\"sk-estimator-id-40\" type=\"checkbox\" ><label for=\"sk-estimator-id-40\" class=\"sk-toggleable__label sk-toggleable__label-arrow\">cat</label><div class=\"sk-toggleable__content\"><pre>Index([&#x27;payments_term&#x27;, &#x27;home&#x27;, &#x27;verification&#x27;, &#x27;purpose&#x27;], dtype=&#x27;object&#x27;)</pre></div></div></div><div class=\"sk-serial\"><div class=\"sk-item\"><div class=\"sk-serial\"><div class=\"sk-item\"><div class=\"sk-estimator sk-toggleable\"><input class=\"sk-toggleable__control sk-hidden--visually\" id=\"sk-estimator-id-41\" type=\"checkbox\" ><label for=\"sk-estimator-id-41\" class=\"sk-toggleable__label sk-toggleable__label-arrow\">OneHotEncoder</label><div class=\"sk-toggleable__content\"><pre>OneHotEncoder(handle_unknown=&#x27;ignore&#x27;)</pre></div></div></div></div></div></div></div></div></div></div><div class=\"sk-item\"><div class=\"sk-estimator sk-toggleable\"><input class=\"sk-toggleable__control sk-hidden--visually\" id=\"sk-estimator-id-42\" type=\"checkbox\" ><label for=\"sk-estimator-id-42\" class=\"sk-toggleable__label sk-toggleable__label-arrow\">XGBClassifier</label><div class=\"sk-toggleable__content\"><pre>XGBClassifier(base_score=None, booster=None, callbacks=None,\n",
       "              colsample_bylevel=None, colsample_bynode=None,\n",
       "              colsample_bytree=None, early_stopping_rounds=None,\n",
       "              enable_categorical=False, eval_metric=None, feature_types=None,\n",
       "              gamma=None, gpu_id=None, grow_policy=None, importance_type=None,\n",
       "              interaction_constraints=None, learning_rate=0.1, max_bin=None,\n",
       "              max_cat_threshold=None, max_cat_to_onehot=None,\n",
       "              max_delta_step=None, max_depth=4, max_leaves=None,\n",
       "              min_child_weight=None, missing=nan, monotone_constraints=None,\n",
       "              n_estimators=100, n_jobs=4, num_parallel_tree=None,\n",
       "              predictor=None, random_state=42, ...)</pre></div></div></div></div></div></div></div>"
      ],
      "text/plain": [
       "Pipeline(steps=[('preprocessing',\n",
       "                 ColumnTransformer(transformers=[('ord',\n",
       "                                                  Pipeline(steps=[('imputer',\n",
       "                                                                   SimpleImputer(strategy='median'))]),\n",
       "                                                  Index(['loan_amount', 'monthly_payment', 'grade', 'working_years',\n",
       "       'annual_income', 'debt_to_income', 'delinquency', 'inquiries',\n",
       "       'open_credit_lines', 'derogatory_records', 'revolving_balance',\n",
       "       'revolving_rate', 'total_accounts...\n",
       "                               feature_types=None, gamma=None, gpu_id=None,\n",
       "                               grow_policy=None, importance_type=None,\n",
       "                               interaction_constraints=None, learning_rate=0.1,\n",
       "                               max_bin=None, max_cat_threshold=None,\n",
       "                               max_cat_to_onehot=None, max_delta_step=None,\n",
       "                               max_depth=4, max_leaves=None,\n",
       "                               min_child_weight=None, missing=nan,\n",
       "                               monotone_constraints=None, n_estimators=100,\n",
       "                               n_jobs=4, num_parallel_tree=None, predictor=None,\n",
       "                               random_state=42, ...))])"
      ]
     },
     "execution_count": 78,
     "metadata": {},
     "output_type": "execute_result"
    }
   ],
   "source": [
    "clf"
   ]
  },
  {
   "cell_type": "markdown",
   "id": "42bb5413",
   "metadata": {},
   "source": [
    "Analisi metriche di classificazione modello, classification_report genera un dizionario contenente i punteggi piu\\' importanti"
   ]
  },
  {
   "cell_type": "code",
   "execution_count": 79,
   "id": "2df335af",
   "metadata": {},
   "outputs": [],
   "source": [
    "from sklearn.metrics import classification_report\n",
    "\n",
    "# Classification report on the validation set\n",
    "\n",
    "report_val = classification_report(data_val['loan_risk'],\n",
    "                                   clf.predict(data_val.drop(['loan_risk'],axis=1)), \n",
    "                                   output_dict=True)\n",
    "\n",
    "report_test = classification_report(data_test['loan_risk'],\n",
    "                                    clf.predict(data_test.drop(['loan_risk'],axis=1)), \n",
    "                                    output_dict=True)"
   ]
  },
  {
   "cell_type": "code",
   "execution_count": 80,
   "id": "0da3cc98",
   "metadata": {},
   "outputs": [
    {
     "data": {
      "text/plain": [
       "{'0': {'precision': 0.5555555555555556,\n",
       "  'recall': 0.011961722488038277,\n",
       "  'f1-score': 0.0234192037470726,\n",
       "  'support': 836},\n",
       " '1': {'precision': 0.8581487205907607,\n",
       "  'recall': 0.9984015984015984,\n",
       "  'f1-score': 0.9229774658293313,\n",
       "  'support': 5005},\n",
       " 'accuracy': 0.8572162300975861,\n",
       " 'macro avg': {'precision': 0.7068521380731582,\n",
       "  'recall': 0.5051816604448183,\n",
       "  'f1-score': 0.47319833478820195,\n",
       "  'support': 5841},\n",
       " 'weighted avg': {'precision': 0.8148397176855336,\n",
       "  'recall': 0.8572162300975861,\n",
       "  'f1-score': 0.7942271307667104,\n",
       "  'support': 5841}}"
      ]
     },
     "execution_count": 80,
     "metadata": {},
     "output_type": "execute_result"
    }
   ],
   "source": [
    "report_val"
   ]
  },
  {
   "attachments": {},
   "cell_type": "markdown",
   "id": "74cea044",
   "metadata": {},
   "source": [
    "# Setup of a grid search\n",
    "\n",
    "Let's look for the combination of parameters that performs best on the validation set. By doing this we log each experiment using mlflow\n"
   ]
  },
  {
   "cell_type": "code",
   "execution_count": 81,
   "id": "e8d61554",
   "metadata": {},
   "outputs": [
    {
     "name": "stdout",
     "output_type": "stream",
     "text": [
      "Number of experiments: 24\n",
      "Running experiment number  0\n"
     ]
    },
    {
     "name": "stderr",
     "output_type": "stream",
     "text": [
      "fatal: not a git repository (or any of the parent directories): .git\n"
     ]
    },
    {
     "name": "stdout",
     "output_type": "stream",
     "text": [
      "Running experiment number  1\n"
     ]
    },
    {
     "name": "stderr",
     "output_type": "stream",
     "text": [
      "fatal: not a git repository (or any of the parent directories): .git\n"
     ]
    },
    {
     "name": "stdout",
     "output_type": "stream",
     "text": [
      "Running experiment number  2\n"
     ]
    },
    {
     "name": "stderr",
     "output_type": "stream",
     "text": [
      "fatal: not a git repository (or any of the parent directories): .git\n"
     ]
    },
    {
     "name": "stdout",
     "output_type": "stream",
     "text": [
      "Running experiment number  3\n"
     ]
    },
    {
     "name": "stderr",
     "output_type": "stream",
     "text": [
      "fatal: not a git repository (or any of the parent directories): .git\n"
     ]
    },
    {
     "name": "stdout",
     "output_type": "stream",
     "text": [
      "Running experiment number  4\n"
     ]
    },
    {
     "name": "stderr",
     "output_type": "stream",
     "text": [
      "fatal: not a git repository (or any of the parent directories): .git\n"
     ]
    },
    {
     "name": "stdout",
     "output_type": "stream",
     "text": [
      "Running experiment number  5\n"
     ]
    },
    {
     "name": "stderr",
     "output_type": "stream",
     "text": [
      "fatal: not a git repository (or any of the parent directories): .git\n"
     ]
    },
    {
     "name": "stdout",
     "output_type": "stream",
     "text": [
      "Running experiment number  6\n"
     ]
    },
    {
     "name": "stderr",
     "output_type": "stream",
     "text": [
      "fatal: not a git repository (or any of the parent directories): .git\n"
     ]
    },
    {
     "name": "stdout",
     "output_type": "stream",
     "text": [
      "Running experiment number  7\n"
     ]
    },
    {
     "name": "stderr",
     "output_type": "stream",
     "text": [
      "fatal: not a git repository (or any of the parent directories): .git\n"
     ]
    },
    {
     "name": "stdout",
     "output_type": "stream",
     "text": [
      "Running experiment number  8\n"
     ]
    },
    {
     "name": "stderr",
     "output_type": "stream",
     "text": [
      "fatal: not a git repository (or any of the parent directories): .git\n"
     ]
    },
    {
     "name": "stdout",
     "output_type": "stream",
     "text": [
      "Running experiment number  9\n"
     ]
    },
    {
     "name": "stderr",
     "output_type": "stream",
     "text": [
      "fatal: not a git repository (or any of the parent directories): .git\n"
     ]
    },
    {
     "name": "stdout",
     "output_type": "stream",
     "text": [
      "Running experiment number  10\n"
     ]
    },
    {
     "name": "stderr",
     "output_type": "stream",
     "text": [
      "fatal: not a git repository (or any of the parent directories): .git\n"
     ]
    },
    {
     "name": "stdout",
     "output_type": "stream",
     "text": [
      "Running experiment number  11\n"
     ]
    },
    {
     "name": "stderr",
     "output_type": "stream",
     "text": [
      "fatal: not a git repository (or any of the parent directories): .git\n"
     ]
    },
    {
     "name": "stdout",
     "output_type": "stream",
     "text": [
      "Running experiment number  12\n"
     ]
    },
    {
     "name": "stderr",
     "output_type": "stream",
     "text": [
      "fatal: not a git repository (or any of the parent directories): .git\n"
     ]
    },
    {
     "name": "stdout",
     "output_type": "stream",
     "text": [
      "Running experiment number  13\n"
     ]
    },
    {
     "name": "stderr",
     "output_type": "stream",
     "text": [
      "fatal: not a git repository (or any of the parent directories): .git\n"
     ]
    },
    {
     "name": "stdout",
     "output_type": "stream",
     "text": [
      "Running experiment number  14\n"
     ]
    },
    {
     "name": "stderr",
     "output_type": "stream",
     "text": [
      "fatal: not a git repository (or any of the parent directories): .git\n"
     ]
    },
    {
     "name": "stdout",
     "output_type": "stream",
     "text": [
      "Running experiment number  15\n"
     ]
    },
    {
     "name": "stderr",
     "output_type": "stream",
     "text": [
      "fatal: not a git repository (or any of the parent directories): .git\n"
     ]
    },
    {
     "name": "stdout",
     "output_type": "stream",
     "text": [
      "Running experiment number  16\n"
     ]
    },
    {
     "name": "stderr",
     "output_type": "stream",
     "text": [
      "fatal: not a git repository (or any of the parent directories): .git\n"
     ]
    },
    {
     "name": "stdout",
     "output_type": "stream",
     "text": [
      "Running experiment number  17\n"
     ]
    },
    {
     "name": "stderr",
     "output_type": "stream",
     "text": [
      "fatal: not a git repository (or any of the parent directories): .git\n"
     ]
    },
    {
     "name": "stdout",
     "output_type": "stream",
     "text": [
      "Running experiment number  18\n"
     ]
    },
    {
     "name": "stderr",
     "output_type": "stream",
     "text": [
      "fatal: not a git repository (or any of the parent directories): .git\n"
     ]
    },
    {
     "name": "stdout",
     "output_type": "stream",
     "text": [
      "Running experiment number  19\n"
     ]
    },
    {
     "name": "stderr",
     "output_type": "stream",
     "text": [
      "fatal: not a git repository (or any of the parent directories): .git\n"
     ]
    },
    {
     "name": "stdout",
     "output_type": "stream",
     "text": [
      "Running experiment number  20\n"
     ]
    },
    {
     "name": "stderr",
     "output_type": "stream",
     "text": [
      "fatal: not a git repository (or any of the parent directories): .git\n"
     ]
    },
    {
     "name": "stdout",
     "output_type": "stream",
     "text": [
      "Running experiment number  21\n"
     ]
    },
    {
     "name": "stderr",
     "output_type": "stream",
     "text": [
      "fatal: not a git repository (or any of the parent directories): .git\n"
     ]
    },
    {
     "name": "stdout",
     "output_type": "stream",
     "text": [
      "Running experiment number  22\n"
     ]
    },
    {
     "name": "stderr",
     "output_type": "stream",
     "text": [
      "fatal: not a git repository (or any of the parent directories): .git\n"
     ]
    },
    {
     "name": "stdout",
     "output_type": "stream",
     "text": [
      "Running experiment number  23\n"
     ]
    },
    {
     "name": "stderr",
     "output_type": "stream",
     "text": [
      "fatal: not a git repository (or any of the parent directories): .git\n"
     ]
    },
    {
     "name": "stdout",
     "output_type": "stream",
     "text": [
      "Best F1 was: 0.3178841309823678\n",
      "Using the following parameters\n",
      "{'n_estimators': 50, 'max_depth': 6, 'scale_pos_weight': 0.1, 'learning_rate': 0.001}\n"
     ]
    }
   ],
   "source": [
    "import mlflow\n",
    "\n",
    "# grid search\n",
    "max_depth = [3, 6]\n",
    "scale_pos_weight = [0.1, 1, 10]\n",
    "learning_rate = [0.01, 0.001]\n",
    "n_estimators = [100, 50]\n",
    "\n",
    "name_experiment = 'First grid-search'\n",
    "\n",
    "parameters = product(max_depth, scale_pos_weight, learning_rate, n_estimators)\n",
    "parameters_list = list(parameters)\n",
    "\n",
    "print('Number of experiments:', len(parameters_list))\n",
    "\n",
    "# Hyperparameter search\n",
    "results = []\n",
    "best_param = None\n",
    "best_f1 = 0.0\n",
    "warnings.filterwarnings('ignore')\n",
    "\n",
    "for i, param in enumerate(parameters_list):\n",
    "    print('Running experiment number ', i)\n",
    "    with mlflow.start_run(run_name=name_experiment):\n",
    "        # Tell mlflow to log the following parameters for the experiments dashboard\n",
    "        mlflow.log_param('max_depth', param[0])\n",
    "        mlflow.log_param('scale_pos_weight', param[1])\n",
    "        mlflow.log_param('learning_rate', param[2])\n",
    "        mlflow.log_param('n_estimators', param[3])\n",
    "        mlflow.log_param('version', os.system('git describe --all --long'))\n",
    "\n",
    "        try:\n",
    "            parameters = dict(n_estimators=param[3], \n",
    "                              max_depth=param[0], \n",
    "                              scale_pos_weight=param[1],\n",
    "                              learning_rate=param[2])\n",
    "\n",
    "            clf = train_xgboost_pipeline(data_train.drop(['loan_risk'],axis=1),\n",
    "                                         data_train['loan_risk'], \n",
    "                                         parameters=parameters)\n",
    "            \n",
    "            \n",
    "            report_val = classification_report(data_val['loan_risk'],\n",
    "                                               clf.predict(data_val.drop(['loan_risk'],axis=1)), \n",
    "                                               output_dict=True)\n",
    "\n",
    "            report_test = classification_report(data_test['loan_risk'],\n",
    "                                                clf.predict(data_test.drop(['loan_risk'],axis=1)), \n",
    "                                                output_dict=True)\n",
    "\n",
    "            # Tell mlflow to log the following metrics\n",
    "            mlflow.log_metric(\"recall\", report_val['0']['recall'])            \n",
    "            mlflow.log_metric(\"precision\", report_val['0']['precision'])\n",
    "            mlflow.log_metric(\"F1\", report_val['0']['f1-score'])\n",
    "\n",
    "            # Store this artifact for each run\n",
    "            json.dump(report_test, open(\"metrics.json\", \"w\"))\n",
    "            mlflow.log_artifact('./metrics.json')\n",
    "\n",
    "            # save the best experiment yet (in terms of precision)\n",
    "            if report_val['0']['f1-score'] > best_f1:\n",
    "                best_param = parameters\n",
    "                best_f1 = report_val['0']['f1-score']\n",
    "            \n",
    "                                            \n",
    "            results.append([param, report_val['0']['f1-score']])\n",
    "\n",
    "        except ValueError:\n",
    "            print('bad parameter combination:', param)\n",
    "            continue\n",
    "\n",
    "mlflow.end_run()\n",
    "print('Best F1 was:', best_f1)\n",
    "print('Using the following parameters')\n",
    "print(best_param)"
   ]
  },
  {
   "attachments": {},
   "cell_type": "markdown",
   "id": "d461a320",
   "metadata": {},
   "source": [
    "### More performing parameter combination"
   ]
  },
  {
   "cell_type": "code",
   "execution_count": 82,
   "id": "a27fde37",
   "metadata": {},
   "outputs": [
    {
     "data": {
      "text/plain": [
       "{'n_estimators': 50,\n",
       " 'max_depth': 6,\n",
       " 'scale_pos_weight': 0.1,\n",
       " 'learning_rate': 0.001}"
      ]
     },
     "execution_count": 82,
     "metadata": {},
     "output_type": "execute_result"
    }
   ],
   "source": [
    "best_param"
   ]
  },
  {
   "attachments": {},
   "cell_type": "markdown",
   "id": "b9513569",
   "metadata": {},
   "source": [
    "# Saving of the model\n",
    "\n",
    "We save the chosen template in our registry"
   ]
  },
  {
   "cell_type": "code",
   "execution_count": 83,
   "id": "873649df",
   "metadata": {},
   "outputs": [],
   "source": [
    "from mlflow.models.signature import infer_signature\n",
    "\n",
    "best_clf = train_xgboost_pipeline(data_train.drop(['loan_risk'], axis=1),\n",
    "                                     data_train['loan_risk'], \n",
    "                                     parameters=best_param)\n",
    "\n",
    "signature = infer_signature(data_val.drop(['loan_risk'], axis=1),\n",
    "                            best_clf.predict(data_val.drop(['loan_risk'], axis=1)))\n",
    "\n",
    "\n",
    "input_example = {}\n",
    "for i in data_val.drop(['loan_risk'],axis=1).columns:\n",
    "    input_example[i] = data_val[i].iloc[0]\n",
    "\n",
    "    \n",
    "mlflow.sklearn.save_model(best_clf, path='./model2/',signature=signature, input_example=input_example)\n",
    "\n",
    "\n",
    "# to load one of the registry templates\n",
    "# saved_model_path=\".\"\n",
    "# reloaded_model = mlflow.sklearn.load_model(model_uri=saved_model_path)"
   ]
  },
  {
   "attachments": {},
   "cell_type": "markdown",
   "id": "3c8184d1",
   "metadata": {},
   "source": [
    "# Creating an API packaged in a Docker container"
   ]
  },
  {
   "attachments": {},
   "cell_type": "markdown",
   "id": "3e87c825",
   "metadata": {},
   "source": [
    "mlflow offers the possibility to put one of the models in our registry into production by packaging it in a docker container that exposes an API to query the model.\n",
    "\n",
    "\n",
    "To create the docker image we can use the following command line\n",
    "```\n",
    "mlflow models build-docker -m \"./best_model\" -n \"xgboost_loan\"\n",
    "```\n",
    "\n",
    "\n",
    "Once the image has been created we can start the container with\n",
    "```\n",
    "docker run -p 5001:8080 xgboost_loan\n",
    "```                             \n",
    "```                                        "
   ]
  },
  {
   "attachments": {},
   "cell_type": "markdown",
   "id": "9e2b0967",
   "metadata": {},
   "source": [
    "# Model queries\n",
    "\n",
    "Let's take an example of saved input and create a payload for the API"
   ]
  },
  {
   "cell_type": "code",
   "execution_count": 84,
   "id": "29a0ec08",
   "metadata": {},
   "outputs": [],
   "source": [
    "import requests\n",
    "import json\n",
    "\n",
    "input_example = {'columns': ['loan_amount', 'payments_term', 'monthly_payment', 'grade', 'working_years', 'home', 'annual_income', 'verification', 'purpose', 'debt_to_income', 'delinquency', 'inquiries', 'open_credit_lines', 'derogatory_records', 'revolving_balance', 'revolving_rate', 'total_accounts', 'bankruptcies', 'fico_average'], 'data': [[100000000000, '60 months', 214.87, 1, 8, 'Mortgage', 50000.0, 'Not Verified', 'debt_consolidation', 18.36, 0, 0, 7, 0, 9075, 44.3, 25, 0, 752]]}\n",
    "# convert input_example to json in a json file named input_example.json\n",
    "with open('./model2/input_example.json', 'w') as f:\n",
    "    json.dump(input_example, f)\n",
    "\n",
    "with open('./model2/input_example.json') as f:\n",
    "    sample_input = json.load(f)"
   ]
  },
  {
   "cell_type": "code",
   "execution_count": 85,
   "id": "57b3bec9",
   "metadata": {},
   "outputs": [
    {
     "ename": "ConnectionError",
     "evalue": "HTTPConnectionPool(host='127.0.0.1', port=5001): Max retries exceeded with url: /invocations (Caused by NewConnectionError('<urllib3.connection.HTTPConnection object at 0x7ffaec3d1150>: Failed to establish a new connection: [Errno 111] Connection refused'))",
     "output_type": "error",
     "traceback": [
      "\u001b[0;31m---------------------------------------------------------------------------\u001b[0m",
      "\u001b[0;31mConnectionRefusedError\u001b[0m                    Traceback (most recent call last)",
      "File \u001b[0;32m~/Desktop/MLFLOW_TEST/MLFLOW_TEST/env/lib/python3.10/site-packages/urllib3/connection.py:174\u001b[0m, in \u001b[0;36mHTTPConnection._new_conn\u001b[0;34m(self)\u001b[0m\n\u001b[1;32m    173\u001b[0m \u001b[39mtry\u001b[39;00m:\n\u001b[0;32m--> 174\u001b[0m     conn \u001b[39m=\u001b[39m connection\u001b[39m.\u001b[39;49mcreate_connection(\n\u001b[1;32m    175\u001b[0m         (\u001b[39mself\u001b[39;49m\u001b[39m.\u001b[39;49m_dns_host, \u001b[39mself\u001b[39;49m\u001b[39m.\u001b[39;49mport), \u001b[39mself\u001b[39;49m\u001b[39m.\u001b[39;49mtimeout, \u001b[39m*\u001b[39;49m\u001b[39m*\u001b[39;49mextra_kw\n\u001b[1;32m    176\u001b[0m     )\n\u001b[1;32m    178\u001b[0m \u001b[39mexcept\u001b[39;00m SocketTimeout:\n",
      "File \u001b[0;32m~/Desktop/MLFLOW_TEST/MLFLOW_TEST/env/lib/python3.10/site-packages/urllib3/util/connection.py:95\u001b[0m, in \u001b[0;36mcreate_connection\u001b[0;34m(address, timeout, source_address, socket_options)\u001b[0m\n\u001b[1;32m     94\u001b[0m \u001b[39mif\u001b[39;00m err \u001b[39mis\u001b[39;00m \u001b[39mnot\u001b[39;00m \u001b[39mNone\u001b[39;00m:\n\u001b[0;32m---> 95\u001b[0m     \u001b[39mraise\u001b[39;00m err\n\u001b[1;32m     97\u001b[0m \u001b[39mraise\u001b[39;00m socket\u001b[39m.\u001b[39merror(\u001b[39m\"\u001b[39m\u001b[39mgetaddrinfo returns an empty list\u001b[39m\u001b[39m\"\u001b[39m)\n",
      "File \u001b[0;32m~/Desktop/MLFLOW_TEST/MLFLOW_TEST/env/lib/python3.10/site-packages/urllib3/util/connection.py:85\u001b[0m, in \u001b[0;36mcreate_connection\u001b[0;34m(address, timeout, source_address, socket_options)\u001b[0m\n\u001b[1;32m     84\u001b[0m     sock\u001b[39m.\u001b[39mbind(source_address)\n\u001b[0;32m---> 85\u001b[0m sock\u001b[39m.\u001b[39;49mconnect(sa)\n\u001b[1;32m     86\u001b[0m \u001b[39mreturn\u001b[39;00m sock\n",
      "\u001b[0;31mConnectionRefusedError\u001b[0m: [Errno 111] Connection refused",
      "\nDuring handling of the above exception, another exception occurred:\n",
      "\u001b[0;31mNewConnectionError\u001b[0m                        Traceback (most recent call last)",
      "File \u001b[0;32m~/Desktop/MLFLOW_TEST/MLFLOW_TEST/env/lib/python3.10/site-packages/urllib3/connectionpool.py:703\u001b[0m, in \u001b[0;36mHTTPConnectionPool.urlopen\u001b[0;34m(self, method, url, body, headers, retries, redirect, assert_same_host, timeout, pool_timeout, release_conn, chunked, body_pos, **response_kw)\u001b[0m\n\u001b[1;32m    702\u001b[0m \u001b[39m# Make the request on the httplib connection object.\u001b[39;00m\n\u001b[0;32m--> 703\u001b[0m httplib_response \u001b[39m=\u001b[39m \u001b[39mself\u001b[39;49m\u001b[39m.\u001b[39;49m_make_request(\n\u001b[1;32m    704\u001b[0m     conn,\n\u001b[1;32m    705\u001b[0m     method,\n\u001b[1;32m    706\u001b[0m     url,\n\u001b[1;32m    707\u001b[0m     timeout\u001b[39m=\u001b[39;49mtimeout_obj,\n\u001b[1;32m    708\u001b[0m     body\u001b[39m=\u001b[39;49mbody,\n\u001b[1;32m    709\u001b[0m     headers\u001b[39m=\u001b[39;49mheaders,\n\u001b[1;32m    710\u001b[0m     chunked\u001b[39m=\u001b[39;49mchunked,\n\u001b[1;32m    711\u001b[0m )\n\u001b[1;32m    713\u001b[0m \u001b[39m# If we're going to release the connection in ``finally:``, then\u001b[39;00m\n\u001b[1;32m    714\u001b[0m \u001b[39m# the response doesn't need to know about the connection. Otherwise\u001b[39;00m\n\u001b[1;32m    715\u001b[0m \u001b[39m# it will also try to release it and we'll have a double-release\u001b[39;00m\n\u001b[1;32m    716\u001b[0m \u001b[39m# mess.\u001b[39;00m\n",
      "File \u001b[0;32m~/Desktop/MLFLOW_TEST/MLFLOW_TEST/env/lib/python3.10/site-packages/urllib3/connectionpool.py:398\u001b[0m, in \u001b[0;36mHTTPConnectionPool._make_request\u001b[0;34m(self, conn, method, url, timeout, chunked, **httplib_request_kw)\u001b[0m\n\u001b[1;32m    397\u001b[0m     \u001b[39melse\u001b[39;00m:\n\u001b[0;32m--> 398\u001b[0m         conn\u001b[39m.\u001b[39;49mrequest(method, url, \u001b[39m*\u001b[39;49m\u001b[39m*\u001b[39;49mhttplib_request_kw)\n\u001b[1;32m    400\u001b[0m \u001b[39m# We are swallowing BrokenPipeError (errno.EPIPE) since the server is\u001b[39;00m\n\u001b[1;32m    401\u001b[0m \u001b[39m# legitimately able to close the connection after sending a valid response.\u001b[39;00m\n\u001b[1;32m    402\u001b[0m \u001b[39m# With this behaviour, the received response is still readable.\u001b[39;00m\n",
      "File \u001b[0;32m~/Desktop/MLFLOW_TEST/MLFLOW_TEST/env/lib/python3.10/site-packages/urllib3/connection.py:239\u001b[0m, in \u001b[0;36mHTTPConnection.request\u001b[0;34m(self, method, url, body, headers)\u001b[0m\n\u001b[1;32m    238\u001b[0m     headers[\u001b[39m\"\u001b[39m\u001b[39mUser-Agent\u001b[39m\u001b[39m\"\u001b[39m] \u001b[39m=\u001b[39m _get_default_user_agent()\n\u001b[0;32m--> 239\u001b[0m \u001b[39msuper\u001b[39;49m(HTTPConnection, \u001b[39mself\u001b[39;49m)\u001b[39m.\u001b[39;49mrequest(method, url, body\u001b[39m=\u001b[39;49mbody, headers\u001b[39m=\u001b[39;49mheaders)\n",
      "File \u001b[0;32m/usr/lib/python3.10/http/client.py:1282\u001b[0m, in \u001b[0;36mHTTPConnection.request\u001b[0;34m(self, method, url, body, headers, encode_chunked)\u001b[0m\n\u001b[1;32m   1281\u001b[0m \u001b[39m\u001b[39m\u001b[39m\"\"\"Send a complete request to the server.\"\"\"\u001b[39;00m\n\u001b[0;32m-> 1282\u001b[0m \u001b[39mself\u001b[39;49m\u001b[39m.\u001b[39;49m_send_request(method, url, body, headers, encode_chunked)\n",
      "File \u001b[0;32m/usr/lib/python3.10/http/client.py:1328\u001b[0m, in \u001b[0;36mHTTPConnection._send_request\u001b[0;34m(self, method, url, body, headers, encode_chunked)\u001b[0m\n\u001b[1;32m   1327\u001b[0m     body \u001b[39m=\u001b[39m _encode(body, \u001b[39m'\u001b[39m\u001b[39mbody\u001b[39m\u001b[39m'\u001b[39m)\n\u001b[0;32m-> 1328\u001b[0m \u001b[39mself\u001b[39;49m\u001b[39m.\u001b[39;49mendheaders(body, encode_chunked\u001b[39m=\u001b[39;49mencode_chunked)\n",
      "File \u001b[0;32m/usr/lib/python3.10/http/client.py:1277\u001b[0m, in \u001b[0;36mHTTPConnection.endheaders\u001b[0;34m(self, message_body, encode_chunked)\u001b[0m\n\u001b[1;32m   1276\u001b[0m     \u001b[39mraise\u001b[39;00m CannotSendHeader()\n\u001b[0;32m-> 1277\u001b[0m \u001b[39mself\u001b[39;49m\u001b[39m.\u001b[39;49m_send_output(message_body, encode_chunked\u001b[39m=\u001b[39;49mencode_chunked)\n",
      "File \u001b[0;32m/usr/lib/python3.10/http/client.py:1037\u001b[0m, in \u001b[0;36mHTTPConnection._send_output\u001b[0;34m(self, message_body, encode_chunked)\u001b[0m\n\u001b[1;32m   1036\u001b[0m \u001b[39mdel\u001b[39;00m \u001b[39mself\u001b[39m\u001b[39m.\u001b[39m_buffer[:]\n\u001b[0;32m-> 1037\u001b[0m \u001b[39mself\u001b[39;49m\u001b[39m.\u001b[39;49msend(msg)\n\u001b[1;32m   1039\u001b[0m \u001b[39mif\u001b[39;00m message_body \u001b[39mis\u001b[39;00m \u001b[39mnot\u001b[39;00m \u001b[39mNone\u001b[39;00m:\n\u001b[1;32m   1040\u001b[0m \n\u001b[1;32m   1041\u001b[0m     \u001b[39m# create a consistent interface to message_body\u001b[39;00m\n",
      "File \u001b[0;32m/usr/lib/python3.10/http/client.py:975\u001b[0m, in \u001b[0;36mHTTPConnection.send\u001b[0;34m(self, data)\u001b[0m\n\u001b[1;32m    974\u001b[0m \u001b[39mif\u001b[39;00m \u001b[39mself\u001b[39m\u001b[39m.\u001b[39mauto_open:\n\u001b[0;32m--> 975\u001b[0m     \u001b[39mself\u001b[39;49m\u001b[39m.\u001b[39;49mconnect()\n\u001b[1;32m    976\u001b[0m \u001b[39melse\u001b[39;00m:\n",
      "File \u001b[0;32m~/Desktop/MLFLOW_TEST/MLFLOW_TEST/env/lib/python3.10/site-packages/urllib3/connection.py:205\u001b[0m, in \u001b[0;36mHTTPConnection.connect\u001b[0;34m(self)\u001b[0m\n\u001b[1;32m    204\u001b[0m \u001b[39mdef\u001b[39;00m \u001b[39mconnect\u001b[39m(\u001b[39mself\u001b[39m):\n\u001b[0;32m--> 205\u001b[0m     conn \u001b[39m=\u001b[39m \u001b[39mself\u001b[39;49m\u001b[39m.\u001b[39;49m_new_conn()\n\u001b[1;32m    206\u001b[0m     \u001b[39mself\u001b[39m\u001b[39m.\u001b[39m_prepare_conn(conn)\n",
      "File \u001b[0;32m~/Desktop/MLFLOW_TEST/MLFLOW_TEST/env/lib/python3.10/site-packages/urllib3/connection.py:186\u001b[0m, in \u001b[0;36mHTTPConnection._new_conn\u001b[0;34m(self)\u001b[0m\n\u001b[1;32m    185\u001b[0m \u001b[39mexcept\u001b[39;00m SocketError \u001b[39mas\u001b[39;00m e:\n\u001b[0;32m--> 186\u001b[0m     \u001b[39mraise\u001b[39;00m NewConnectionError(\n\u001b[1;32m    187\u001b[0m         \u001b[39mself\u001b[39m, \u001b[39m\"\u001b[39m\u001b[39mFailed to establish a new connection: \u001b[39m\u001b[39m%s\u001b[39;00m\u001b[39m\"\u001b[39m \u001b[39m%\u001b[39m e\n\u001b[1;32m    188\u001b[0m     )\n\u001b[1;32m    190\u001b[0m \u001b[39mreturn\u001b[39;00m conn\n",
      "\u001b[0;31mNewConnectionError\u001b[0m: <urllib3.connection.HTTPConnection object at 0x7ffaec3d1150>: Failed to establish a new connection: [Errno 111] Connection refused",
      "\nDuring handling of the above exception, another exception occurred:\n",
      "\u001b[0;31mMaxRetryError\u001b[0m                             Traceback (most recent call last)",
      "File \u001b[0;32m~/Desktop/MLFLOW_TEST/MLFLOW_TEST/env/lib/python3.10/site-packages/requests/adapters.py:489\u001b[0m, in \u001b[0;36mHTTPAdapter.send\u001b[0;34m(self, request, stream, timeout, verify, cert, proxies)\u001b[0m\n\u001b[1;32m    488\u001b[0m \u001b[39mif\u001b[39;00m \u001b[39mnot\u001b[39;00m chunked:\n\u001b[0;32m--> 489\u001b[0m     resp \u001b[39m=\u001b[39m conn\u001b[39m.\u001b[39;49murlopen(\n\u001b[1;32m    490\u001b[0m         method\u001b[39m=\u001b[39;49mrequest\u001b[39m.\u001b[39;49mmethod,\n\u001b[1;32m    491\u001b[0m         url\u001b[39m=\u001b[39;49murl,\n\u001b[1;32m    492\u001b[0m         body\u001b[39m=\u001b[39;49mrequest\u001b[39m.\u001b[39;49mbody,\n\u001b[1;32m    493\u001b[0m         headers\u001b[39m=\u001b[39;49mrequest\u001b[39m.\u001b[39;49mheaders,\n\u001b[1;32m    494\u001b[0m         redirect\u001b[39m=\u001b[39;49m\u001b[39mFalse\u001b[39;49;00m,\n\u001b[1;32m    495\u001b[0m         assert_same_host\u001b[39m=\u001b[39;49m\u001b[39mFalse\u001b[39;49;00m,\n\u001b[1;32m    496\u001b[0m         preload_content\u001b[39m=\u001b[39;49m\u001b[39mFalse\u001b[39;49;00m,\n\u001b[1;32m    497\u001b[0m         decode_content\u001b[39m=\u001b[39;49m\u001b[39mFalse\u001b[39;49;00m,\n\u001b[1;32m    498\u001b[0m         retries\u001b[39m=\u001b[39;49m\u001b[39mself\u001b[39;49m\u001b[39m.\u001b[39;49mmax_retries,\n\u001b[1;32m    499\u001b[0m         timeout\u001b[39m=\u001b[39;49mtimeout,\n\u001b[1;32m    500\u001b[0m     )\n\u001b[1;32m    502\u001b[0m \u001b[39m# Send the request.\u001b[39;00m\n\u001b[1;32m    503\u001b[0m \u001b[39melse\u001b[39;00m:\n",
      "File \u001b[0;32m~/Desktop/MLFLOW_TEST/MLFLOW_TEST/env/lib/python3.10/site-packages/urllib3/connectionpool.py:787\u001b[0m, in \u001b[0;36mHTTPConnectionPool.urlopen\u001b[0;34m(self, method, url, body, headers, retries, redirect, assert_same_host, timeout, pool_timeout, release_conn, chunked, body_pos, **response_kw)\u001b[0m\n\u001b[1;32m    785\u001b[0m     e \u001b[39m=\u001b[39m ProtocolError(\u001b[39m\"\u001b[39m\u001b[39mConnection aborted.\u001b[39m\u001b[39m\"\u001b[39m, e)\n\u001b[0;32m--> 787\u001b[0m retries \u001b[39m=\u001b[39m retries\u001b[39m.\u001b[39;49mincrement(\n\u001b[1;32m    788\u001b[0m     method, url, error\u001b[39m=\u001b[39;49me, _pool\u001b[39m=\u001b[39;49m\u001b[39mself\u001b[39;49m, _stacktrace\u001b[39m=\u001b[39;49msys\u001b[39m.\u001b[39;49mexc_info()[\u001b[39m2\u001b[39;49m]\n\u001b[1;32m    789\u001b[0m )\n\u001b[1;32m    790\u001b[0m retries\u001b[39m.\u001b[39msleep()\n",
      "File \u001b[0;32m~/Desktop/MLFLOW_TEST/MLFLOW_TEST/env/lib/python3.10/site-packages/urllib3/util/retry.py:592\u001b[0m, in \u001b[0;36mRetry.increment\u001b[0;34m(self, method, url, response, error, _pool, _stacktrace)\u001b[0m\n\u001b[1;32m    591\u001b[0m \u001b[39mif\u001b[39;00m new_retry\u001b[39m.\u001b[39mis_exhausted():\n\u001b[0;32m--> 592\u001b[0m     \u001b[39mraise\u001b[39;00m MaxRetryError(_pool, url, error \u001b[39mor\u001b[39;00m ResponseError(cause))\n\u001b[1;32m    594\u001b[0m log\u001b[39m.\u001b[39mdebug(\u001b[39m\"\u001b[39m\u001b[39mIncremented Retry for (url=\u001b[39m\u001b[39m'\u001b[39m\u001b[39m%s\u001b[39;00m\u001b[39m'\u001b[39m\u001b[39m): \u001b[39m\u001b[39m%r\u001b[39;00m\u001b[39m\"\u001b[39m, url, new_retry)\n",
      "\u001b[0;31mMaxRetryError\u001b[0m: HTTPConnectionPool(host='127.0.0.1', port=5001): Max retries exceeded with url: /invocations (Caused by NewConnectionError('<urllib3.connection.HTTPConnection object at 0x7ffaec3d1150>: Failed to establish a new connection: [Errno 111] Connection refused'))",
      "\nDuring handling of the above exception, another exception occurred:\n",
      "\u001b[0;31mConnectionError\u001b[0m                           Traceback (most recent call last)",
      "Cell \u001b[0;32mIn[85], line 1\u001b[0m\n\u001b[0;32m----> 1\u001b[0m response \u001b[39m=\u001b[39m requests\u001b[39m.\u001b[39;49mpost(\n\u001b[1;32m      2\u001b[0m               url\u001b[39m=\u001b[39;49m\u001b[39m'\u001b[39;49m\u001b[39mhttp://127.0.0.1:5001/invocations\u001b[39;49m\u001b[39m'\u001b[39;49m, data\u001b[39m=\u001b[39;49mjson\u001b[39m.\u001b[39;49mdumps(sample_input),\n\u001b[1;32m      3\u001b[0m               headers\u001b[39m=\u001b[39;49m{\u001b[39m\"\u001b[39;49m\u001b[39mContent-type\u001b[39;49m\u001b[39m\"\u001b[39;49m: \u001b[39m\"\u001b[39;49m\u001b[39mapplication/json\u001b[39;49m\u001b[39m\"\u001b[39;49m})\n\u001b[1;32m      4\u001b[0m response_json \u001b[39m=\u001b[39m json\u001b[39m.\u001b[39mloads(response\u001b[39m.\u001b[39mtext)\n\u001b[1;32m      5\u001b[0m \u001b[39mprint\u001b[39m(\u001b[39m'\u001b[39m\u001b[39mPredicted loan outcome: \u001b[39m\u001b[39m'\u001b[39m\u001b[39m+\u001b[39mresponse_json[\u001b[39m0\u001b[39m])\n",
      "File \u001b[0;32m~/Desktop/MLFLOW_TEST/MLFLOW_TEST/env/lib/python3.10/site-packages/requests/api.py:115\u001b[0m, in \u001b[0;36mpost\u001b[0;34m(url, data, json, **kwargs)\u001b[0m\n\u001b[1;32m    103\u001b[0m \u001b[39mdef\u001b[39;00m \u001b[39mpost\u001b[39m(url, data\u001b[39m=\u001b[39m\u001b[39mNone\u001b[39;00m, json\u001b[39m=\u001b[39m\u001b[39mNone\u001b[39;00m, \u001b[39m*\u001b[39m\u001b[39m*\u001b[39mkwargs):\n\u001b[1;32m    104\u001b[0m \u001b[39m    \u001b[39m\u001b[39mr\u001b[39m\u001b[39m\"\"\"Sends a POST request.\u001b[39;00m\n\u001b[1;32m    105\u001b[0m \n\u001b[1;32m    106\u001b[0m \u001b[39m    :param url: URL for the new :class:`Request` object.\u001b[39;00m\n\u001b[0;32m   (...)\u001b[0m\n\u001b[1;32m    112\u001b[0m \u001b[39m    :rtype: requests.Response\u001b[39;00m\n\u001b[1;32m    113\u001b[0m \u001b[39m    \"\"\"\u001b[39;00m\n\u001b[0;32m--> 115\u001b[0m     \u001b[39mreturn\u001b[39;00m request(\u001b[39m\"\u001b[39;49m\u001b[39mpost\u001b[39;49m\u001b[39m\"\u001b[39;49m, url, data\u001b[39m=\u001b[39;49mdata, json\u001b[39m=\u001b[39;49mjson, \u001b[39m*\u001b[39;49m\u001b[39m*\u001b[39;49mkwargs)\n",
      "File \u001b[0;32m~/Desktop/MLFLOW_TEST/MLFLOW_TEST/env/lib/python3.10/site-packages/requests/api.py:59\u001b[0m, in \u001b[0;36mrequest\u001b[0;34m(method, url, **kwargs)\u001b[0m\n\u001b[1;32m     55\u001b[0m \u001b[39m# By using the 'with' statement we are sure the session is closed, thus we\u001b[39;00m\n\u001b[1;32m     56\u001b[0m \u001b[39m# avoid leaving sockets open which can trigger a ResourceWarning in some\u001b[39;00m\n\u001b[1;32m     57\u001b[0m \u001b[39m# cases, and look like a memory leak in others.\u001b[39;00m\n\u001b[1;32m     58\u001b[0m \u001b[39mwith\u001b[39;00m sessions\u001b[39m.\u001b[39mSession() \u001b[39mas\u001b[39;00m session:\n\u001b[0;32m---> 59\u001b[0m     \u001b[39mreturn\u001b[39;00m session\u001b[39m.\u001b[39;49mrequest(method\u001b[39m=\u001b[39;49mmethod, url\u001b[39m=\u001b[39;49murl, \u001b[39m*\u001b[39;49m\u001b[39m*\u001b[39;49mkwargs)\n",
      "File \u001b[0;32m~/Desktop/MLFLOW_TEST/MLFLOW_TEST/env/lib/python3.10/site-packages/requests/sessions.py:587\u001b[0m, in \u001b[0;36mSession.request\u001b[0;34m(self, method, url, params, data, headers, cookies, files, auth, timeout, allow_redirects, proxies, hooks, stream, verify, cert, json)\u001b[0m\n\u001b[1;32m    582\u001b[0m send_kwargs \u001b[39m=\u001b[39m {\n\u001b[1;32m    583\u001b[0m     \u001b[39m\"\u001b[39m\u001b[39mtimeout\u001b[39m\u001b[39m\"\u001b[39m: timeout,\n\u001b[1;32m    584\u001b[0m     \u001b[39m\"\u001b[39m\u001b[39mallow_redirects\u001b[39m\u001b[39m\"\u001b[39m: allow_redirects,\n\u001b[1;32m    585\u001b[0m }\n\u001b[1;32m    586\u001b[0m send_kwargs\u001b[39m.\u001b[39mupdate(settings)\n\u001b[0;32m--> 587\u001b[0m resp \u001b[39m=\u001b[39m \u001b[39mself\u001b[39;49m\u001b[39m.\u001b[39;49msend(prep, \u001b[39m*\u001b[39;49m\u001b[39m*\u001b[39;49msend_kwargs)\n\u001b[1;32m    589\u001b[0m \u001b[39mreturn\u001b[39;00m resp\n",
      "File \u001b[0;32m~/Desktop/MLFLOW_TEST/MLFLOW_TEST/env/lib/python3.10/site-packages/requests/sessions.py:701\u001b[0m, in \u001b[0;36mSession.send\u001b[0;34m(self, request, **kwargs)\u001b[0m\n\u001b[1;32m    698\u001b[0m start \u001b[39m=\u001b[39m preferred_clock()\n\u001b[1;32m    700\u001b[0m \u001b[39m# Send the request\u001b[39;00m\n\u001b[0;32m--> 701\u001b[0m r \u001b[39m=\u001b[39m adapter\u001b[39m.\u001b[39;49msend(request, \u001b[39m*\u001b[39;49m\u001b[39m*\u001b[39;49mkwargs)\n\u001b[1;32m    703\u001b[0m \u001b[39m# Total elapsed time of the request (approximately)\u001b[39;00m\n\u001b[1;32m    704\u001b[0m elapsed \u001b[39m=\u001b[39m preferred_clock() \u001b[39m-\u001b[39m start\n",
      "File \u001b[0;32m~/Desktop/MLFLOW_TEST/MLFLOW_TEST/env/lib/python3.10/site-packages/requests/adapters.py:565\u001b[0m, in \u001b[0;36mHTTPAdapter.send\u001b[0;34m(self, request, stream, timeout, verify, cert, proxies)\u001b[0m\n\u001b[1;32m    561\u001b[0m     \u001b[39mif\u001b[39;00m \u001b[39misinstance\u001b[39m(e\u001b[39m.\u001b[39mreason, _SSLError):\n\u001b[1;32m    562\u001b[0m         \u001b[39m# This branch is for urllib3 v1.22 and later.\u001b[39;00m\n\u001b[1;32m    563\u001b[0m         \u001b[39mraise\u001b[39;00m SSLError(e, request\u001b[39m=\u001b[39mrequest)\n\u001b[0;32m--> 565\u001b[0m     \u001b[39mraise\u001b[39;00m \u001b[39mConnectionError\u001b[39;00m(e, request\u001b[39m=\u001b[39mrequest)\n\u001b[1;32m    567\u001b[0m \u001b[39mexcept\u001b[39;00m ClosedPoolError \u001b[39mas\u001b[39;00m e:\n\u001b[1;32m    568\u001b[0m     \u001b[39mraise\u001b[39;00m \u001b[39mConnectionError\u001b[39;00m(e, request\u001b[39m=\u001b[39mrequest)\n",
      "\u001b[0;31mConnectionError\u001b[0m: HTTPConnectionPool(host='127.0.0.1', port=5001): Max retries exceeded with url: /invocations (Caused by NewConnectionError('<urllib3.connection.HTTPConnection object at 0x7ffaec3d1150>: Failed to establish a new connection: [Errno 111] Connection refused'))"
     ]
    }
   ],
   "source": [
    "response = requests.post(\n",
    "              url='http://127.0.0.1:5001/invocations', data=json.dumps(sample_input),\n",
    "              headers={\"Content-type\": \"application/json\"})\n",
    "response_json = json.loads(response.text)\n",
    "print('Predicted loan outcome: '+response_json[0])"
   ]
  }
 ],
 "metadata": {
  "kernelspec": {
   "display_name": "env",
   "language": "python",
   "name": "python3"
  },
  "language_info": {
   "codemirror_mode": {
    "name": "ipython",
    "version": 3
   },
   "file_extension": ".py",
   "mimetype": "text/x-python",
   "name": "python",
   "nbconvert_exporter": "python",
   "pygments_lexer": "ipython3",
   "version": "3.10.6"
  },
  "vscode": {
   "interpreter": {
    "hash": "ff9a70eca390041d0a96e4255819e1a56832560610061599cba5e8d956141a00"
   }
  }
 },
 "nbformat": 4,
 "nbformat_minor": 5
}
